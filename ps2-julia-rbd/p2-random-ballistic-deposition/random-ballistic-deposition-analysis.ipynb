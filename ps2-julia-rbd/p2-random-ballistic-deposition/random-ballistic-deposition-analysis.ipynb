{
 "cells": [
  {
   "cell_type": "markdown",
   "source": [
    "# Random Ballistic Deposition\r\n",
    "## Imports and config"
   ],
   "metadata": {}
  },
  {
   "cell_type": "code",
   "execution_count": 1,
   "source": [
    "from random_ballistic_deposition import random_ballistic_deposition\r\n",
    "from matplotlib import rcParams, cm, pyplot as plt\r\n",
    "import numpy as np\r\n",
    "\r\n",
    "directory = \"../fig/random-ballistic-deposition/\"\r\n",
    "rcParams['text.usetex'] = True"
   ],
   "outputs": [],
   "metadata": {}
  },
  {
   "cell_type": "markdown",
   "source": [
    "## Simulation\r\n",
    "### Run New Simulation"
   ],
   "metadata": {}
  },
  {
   "cell_type": "code",
   "execution_count": 2,
   "source": [
    "length = 200\r\n",
    "layers = 20\r\n",
    "\r\n",
    "surface = np.zeros(length, dtype=int)\r\n",
    "layer_heights = random_ballistic_deposition(surface, 100 * length * layers, layers)"
   ],
   "outputs": [],
   "metadata": {}
  },
  {
   "cell_type": "code",
   "execution_count": 3,
   "source": [
    "# save simulation to file\r\n",
    "max_digits = len(str(layer_heights.max()))\r\n",
    "np.savetxt(\"simulation_data.txt\", layer_heights, fmt=f\"%{max_digits}d\")"
   ],
   "outputs": [],
   "metadata": {}
  },
  {
   "cell_type": "markdown",
   "source": [
    "### Load Results of Previous Run"
   ],
   "metadata": {}
  },
  {
   "cell_type": "code",
   "execution_count": 4,
   "source": [
    "layer_heights = np.loadtxt(\"simulation_data.txt\")"
   ],
   "outputs": [],
   "metadata": {}
  },
  {
   "cell_type": "markdown",
   "source": [
    "## Visualization"
   ],
   "metadata": {}
  },
  {
   "cell_type": "code",
   "execution_count": 5,
   "source": [
    "x = np.linspace(0.5, length - 0.5, length)\r\n",
    "cmap = cm.get_cmap(\"rainbow\")\r\n",
    "\r\n",
    "plt.xlim(0, length)\r\n",
    "for i in range(7, -1, -1):\r\n",
    "    plt.bar(x, layer_heights[i], width=1, color=cmap(i / 6))\r\n",
    "plt.savefig(directory + \"vis.pdf\", bbox_inches=\"tight\")"
   ],
   "outputs": [
    {
     "output_type": "display_data",
     "data": {
      "image/png": "[encoded data removed]",
      "text/plain": [
       "<Figure size 432x288 with 1 Axes>"
      ]
     },
     "metadata": {
      "needs_background": "light"
     }
    }
   ],
   "metadata": {}
  },
  {
   "cell_type": "markdown",
   "source": [
    "## Analysis\r\n",
    "### Mean Height"
   ],
   "metadata": {}
  },
  {
   "cell_type": "code",
   "execution_count": 6,
   "source": [
    "times = np.linspace(100 * length, 100 * length * layers, layers)\r\n",
    "means = layer_heights.mean(axis=1)\r\n",
    "means_fit, residuals, _, _, _ = np.polyfit(times, means, 1, full=True)\r\n",
    "slope = means_fit[0]\r\n",
    "error = (residuals[0] / (len(means) - 2) / np.sum((times - times.mean()) ** 2)) ** 0.5\r\n",
    "slope, error"
   ],
   "outputs": [
    {
     "output_type": "execute_result",
     "data": {
      "text/plain": [
       "(0.005, 5.343982585939039e-19)"
      ]
     },
     "metadata": {},
     "execution_count": 6
    }
   ],
   "metadata": {}
  },
  {
   "cell_type": "code",
   "execution_count": 7,
   "source": [
    "fit = means_fit[0] * times + means_fit[1]\r\n",
    "\r\n",
    "plt.plot(times, fit, 'r')\r\n",
    "plt.plot(times, means, 'b.')\r\n",
    "\r\n",
    "plt.xlabel(r\"$t$\")\r\n",
    "plt.ylabel(r\"$\\bar{h}(t)$\")\r\n",
    "plt.savefig(directory + \"means.pdf\", bbox_inches=\"tight\")"
   ],
   "outputs": [
    {
     "output_type": "display_data",
     "data": {
      "image/png": "[encoded data removed]",
      "text/plain": [
       "<Figure size 432x288 with 1 Axes>"
      ]
     },
     "metadata": {
      "needs_background": "light"
     }
    }
   ],
   "metadata": {}
  },
  {
   "cell_type": "markdown",
   "source": [
    "### Standard Deviation of Heights"
   ],
   "metadata": {}
  },
  {
   "cell_type": "code",
   "execution_count": 8,
   "source": [
    "deviations = layer_heights.std(axis=1)\r\n",
    "deviations_log = np.log10(deviations)\r\n",
    "times_log = np.log10(times)\r\n",
    "deviations_fit, residuals, _, _, _ = np.polyfit(times_log, deviations_log, 1, full=True)\r\n",
    "dynamic_growth_exponent = deviations_fit[0]\r\n",
    "error = (residuals[0] / (len(deviations_log) - 2)\r\n",
    "         / np.sum((times_log - times_log.mean()) ** 2)) ** 0.5\r\n",
    "dynamic_growth_exponent, error"
   ],
   "outputs": [
    {
     "output_type": "execute_result",
     "data": {
      "text/plain": [
       "(0.5072399521682067, 0.006707580644035795)"
      ]
     },
     "metadata": {},
     "execution_count": 8
    }
   ],
   "metadata": {}
  },
  {
   "cell_type": "code",
   "execution_count": 11,
   "source": [
    "fit = times ** deviations_fit[0] * 10 ** deviations_fit[1]\r\n",
    "\r\n",
    "plt.plot(times, fit, 'r')\r\n",
    "plt.plot(times, deviations, 'b.')\r\n",
    "\r\n",
    "plt.xlabel(r\"$t$\")\r\n",
    "plt.ylabel(r\"$\\mathrm{SD}_h(t)$\")\r\n",
    "plt.savefig(directory + \"deviations.pdf\", bbox_inches=\"tight\")"
   ],
   "outputs": [
    {
     "output_type": "display_data",
     "data": {
      "image/png": "[encoded data removed]",
      "text/plain": [
       "<Figure size 432x288 with 1 Axes>"
      ]
     },
     "metadata": {
      "needs_background": "light"
     }
    }
   ],
   "metadata": {}
  },
  {
   "cell_type": "code",
   "execution_count": 12,
   "source": [
    "plt.loglog(times, fit, 'r')\r\n",
    "plt.loglog(times, deviations, 'b.')\r\n",
    "\r\n",
    "plt.xlabel(r\"$t$\")\r\n",
    "plt.ylabel(r\"$\\mathrm{SD}_h(t)$\")\r\n",
    "plt.savefig(directory + \"deviations-loglog.pdf\", bbox_inches=\"tight\")"
   ],
   "outputs": [
    {
     "output_type": "display_data",
     "data": {
      "image/png": "[encoded data removed]",
      "text/plain": [
       "<Figure size 432x288 with 1 Axes>"
      ]
     },
     "metadata": {
      "needs_background": "light"
     }
    }
   ],
   "metadata": {}
  }
 ],
 "metadata": {
  "orig_nbformat": 4,
  "language_info": {
   "name": "python",
   "version": "3.9.6",
   "mimetype": "text/x-python",
   "codemirror_mode": {
    "name": "ipython",
    "version": 3
   },
   "pygments_lexer": "ipython3",
   "nbconvert_exporter": "python",
   "file_extension": ".py"
  },
  "kernelspec": {
   "name": "python3",
   "display_name": "Python 3.9.6 64-bit"
  },
  "interpreter": {
   "hash": "91b4319d0df388d959d85b4da721822ccaaf7f695d5cf8a0a3cefd0beaeac272"
  }
 },
 "nbformat": 4,
 "nbformat_minor": 2
}