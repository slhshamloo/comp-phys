{
 "cells": [
  {
   "cell_type": "markdown",
   "metadata": {},
   "source": [
    "# Percolation with Coloring\n",
    "## Packages"
   ]
  },
  {
   "cell_type": "code",
   "execution_count": 13,
   "metadata": {},
   "outputs": [],
   "source": [
    "include(\"../Percolation.jl\")\n",
    "using Plots, ColorSchemes, LaTeXStrings, DelimitedFiles\n",
    "import PyPlot as plt"
   ]
  },
  {
   "cell_type": "markdown",
   "metadata": {},
   "source": [
    "## Configurations"
   ]
  },
  {
   "cell_type": "code",
   "execution_count": 14,
   "metadata": {},
   "outputs": [
    {
     "data": {
      "text/plain": [
       "true"
      ]
     },
     "execution_count": 14,
     "metadata": {},
     "output_type": "execute_result"
    }
   ],
   "source": [
    "figpath = \"../../fig/percolation/\"\n",
    "rcParams = plt.PyDict(plt.matplotlib[\"rcParams\"])\n",
    "rcParams[\"text.usetex\"] = true"
   ]
  },
  {
   "cell_type": "markdown",
   "metadata": {},
   "source": [
    "## Coloring"
   ]
  },
  {
   "cell_type": "code",
   "execution_count": 15,
   "metadata": {},
   "outputs": [
    {
     "data": {
      "text/plain": [
       "60"
      ]
     },
     "execution_count": 15,
     "metadata": {},
     "output_type": "execute_result"
    }
   ],
   "source": [
    "prob, len = 0.6, 25\n",
    "percent = Integer(round(prob * 100))"
   ]
  },
  {
   "cell_type": "code",
   "execution_count": 128,
   "metadata": {},
   "outputs": [
    {
     "name": "stdout",
     "output_type": "stream",
     "text": [
      "false"
     ]
    }
   ],
   "source": [
    "grid = rand(len, len) .<= prob\n",
    "\n",
    "percolates, colors = Percolation.colorpercolate(grid)\n",
    "print(percolates)\n",
    "\n",
    "# save data\n",
    "open(\"color-$percent.txt\", \"w\") do io\n",
    "    writedlm(io, colors)\n",
    "end"
   ]
  },
  {
   "cell_type": "code",
   "execution_count": 16,
   "metadata": {},
   "outputs": [
    {
     "name": "stdout",
     "output_type": "stream",
     "text": [
      "true"
     ]
    }
   ],
   "source": [
    "# load data from previous runs\n",
    "colors = readdlm(\"color-$percent.txt\", Int)\n",
    "# state of percolation\n",
    "print(any(colors[end, :] .== 1))"
   ]
  },
  {
   "cell_type": "markdown",
   "metadata": {},
   "source": [
    "## Heat Map"
   ]
  },
  {
   "cell_type": "code",
   "execution_count": 17,
   "metadata": {},
   "outputs": [
    {
     "data": {
      "image/png": "[encoded data removed]",
      "text/plain": [
       "PyPlot.Figure(PyObject <Figure size 300x350 with 1 Axes>)"
      ]
     },
     "metadata": {},
     "output_type": "display_data"
    },
    {
     "data": {
      "image/png": "[encoded data removed]",
      "text/plain": [
       "PyPlot.Figure(PyObject <Figure size 300x350 with 1 Axes>)"
      ]
     },
     "metadata": {},
     "output_type": "display_data"
    }
   ],
   "source": [
    "colors[colors .== 0] .= maximum(colors) + 1\n",
    "\n",
    "fig, ax = plt.subplots(figsize=(3, 3.5))\n",
    "ax.xaxis.tick_top()\n",
    "ax.set_title(L\"p=%$percent\\%\", fontsize=18)\n",
    "\n",
    "ax.imshow(colors, cmap=\"gnuplot_r\")\n",
    "\n",
    "plt.savefig(figpath * \"color-$percent.pdf\", bbox_inches=\"tight\")\n",
    "display(fig)"
   ]
  }
 ],
 "metadata": {
  "kernelspec": {
   "display_name": "Julia 1.6.3",
   "language": "julia",
   "name": "julia-1.6"
  },
  "language_info": {
   "file_extension": ".jl",
   "mimetype": "application/julia",
   "name": "julia",
   "version": "1.6.3"
  },
  "orig_nbformat": 4
 },
 "nbformat": 4,
 "nbformat_minor": 2
}
