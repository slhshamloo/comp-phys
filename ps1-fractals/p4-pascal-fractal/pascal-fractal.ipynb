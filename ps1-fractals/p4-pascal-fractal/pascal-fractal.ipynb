{
 "cells": [
  {
   "cell_type": "markdown",
   "source": [
    "# Pascal's Triangle Serpińsky Fractal\r\n",
    "## Imports and Config"
   ],
   "metadata": {}
  },
  {
   "cell_type": "code",
   "execution_count": 6,
   "source": [
    "from pascal import draw_pascal_triangle, draw_pascal_fractal\r\n",
    "from matplotlib import rcParams, pyplot as plt\r\n",
    "\r\n",
    "rcParams['text.usetex'] = True\r\n",
    "directory = \"../fig/\"\r\n",
    "figsize = (4, 2 * 3**0.5)"
   ],
   "outputs": [],
   "metadata": {}
  },
  {
   "cell_type": "markdown",
   "source": [
    "## Pascal's Triangle"
   ],
   "metadata": {}
  },
  {
   "cell_type": "code",
   "execution_count": 7,
   "source": [
    "fig, ax = plt.subplots(figsize=figsize)\r\n",
    "ax.set_axis_off()\r\n",
    "\r\n",
    "draw_pascal_triangle(ax, 8, fontsize=18)\r\n",
    "\r\n",
    "plt.savefig(directory + \"pascal-triangle.pdf\", bbox_inches=\"tight\")"
   ],
   "outputs": [
    {
     "output_type": "display_data",
     "data": {
      "image/png": "[encoded data removed]",
      "text/plain": [
       "<Figure size 288x249.415 with 1 Axes>"
      ]
     },
     "metadata": {
      "needs_background": "light"
     }
    }
   ],
   "metadata": {}
  },
  {
   "cell_type": "markdown",
   "source": [
    "## Connecting the Odd Numbers"
   ],
   "metadata": {}
  },
  {
   "cell_type": "code",
   "execution_count": 8,
   "source": [
    "fig, ax = plt.subplots(figsize=figsize)\r\n",
    "ax.set_axis_off()\r\n",
    "\r\n",
    "draw_pascal_fractal(ax, 8, fontsize=18)\r\n",
    "\r\n",
    "plt.savefig(directory + \"pascal-triangle-fractal.pdf\", bbox_inches=\"tight\")"
   ],
   "outputs": [
    {
     "output_type": "display_data",
     "data": {
      "image/png": "[encoded data removed]",
      "text/plain": [
       "<Figure size 288x249.415 with 1 Axes>"
      ]
     },
     "metadata": {
      "needs_background": "light"
     }
    }
   ],
   "metadata": {}
  },
  {
   "cell_type": "markdown",
   "source": [
    "## Pascal's Fractal"
   ],
   "metadata": {}
  },
  {
   "cell_type": "code",
   "execution_count": 9,
   "source": [
    "fig, ax = plt.subplots(figsize=figsize)\r\n",
    "ax.set_axis_off()\r\n",
    "\r\n",
    "draw_pascal_fractal(ax, 16, fontsize=6)\r\n",
    "\r\n",
    "plt.savefig(directory + \"pascal-fractal.pdf\", bbox_inches=\"tight\")"
   ],
   "outputs": [
    {
     "output_type": "display_data",
     "data": {
      "image/png": "[encoded data removed]",
      "text/plain": [
       "<Figure size 288x249.415 with 1 Axes>"
      ]
     },
     "metadata": {
      "needs_background": "light"
     }
    }
   ],
   "metadata": {}
  },
  {
   "cell_type": "code",
   "execution_count": 10,
   "source": [
    "fig, ax = plt.subplots(figsize=figsize)\r\n",
    "ax.set_axis_off()\r\n",
    "\r\n",
    "draw_pascal_fractal(ax, 256, draw_numbers=False)\r\n",
    "\r\n",
    "plt.savefig(directory + \"pascal-fractal-big.pdf\", bbox_inches=\"tight\", dpi=1000)"
   ],
   "outputs": [
    {
     "output_type": "display_data",
     "data": {
      "image/png": "[encoded data removed]",
      "text/plain": [
       "<Figure size 288x249.415 with 1 Axes>"
      ]
     },
     "metadata": {
      "needs_background": "light"
     }
    }
   ],
   "metadata": {}
  }
 ],
 "metadata": {
  "orig_nbformat": 4,
  "language_info": {
   "name": "python",
   "version": "3.9.6",
   "mimetype": "text/x-python",
   "codemirror_mode": {
    "name": "ipython",
    "version": 3
   },
   "pygments_lexer": "ipython3",
   "nbconvert_exporter": "python",
   "file_extension": ".py"
  },
  "kernelspec": {
   "name": "python3",
   "display_name": "Python 3.9.6 64-bit"
  },
  "interpreter": {
   "hash": "91b4319d0df388d959d85b4da721822ccaaf7f695d5cf8a0a3cefd0beaeac272"
  }
 },
 "nbformat": 4,
 "nbformat_minor": 2
}